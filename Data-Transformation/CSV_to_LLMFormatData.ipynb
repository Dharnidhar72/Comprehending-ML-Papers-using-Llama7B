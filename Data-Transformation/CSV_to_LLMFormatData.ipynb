{
  "nbformat": 4,
  "nbformat_minor": 0,
  "metadata": {
    "colab": {
      "provenance": []
    },
    "kernelspec": {
      "name": "python3",
      "display_name": "Python 3"
    },
    "language_info": {
      "name": "python"
    }
  },
  "cells": [
    {
      "cell_type": "code",
      "execution_count": null,
      "metadata": {
        "colab": {
          "base_uri": "https://localhost:8080/"
        },
        "id": "wwQvJq1kHGFG",
        "outputId": "2caadeea-64b3-497b-82f0-da2755a66e78"
      },
      "outputs": [
        {
          "output_type": "stream",
          "name": "stdout",
          "text": [
            "Conversion complete. Output written to output.txt\n"
          ]
        }
      ],
      "source": [
        "import pandas as pd\n",
        "\n",
        "# Function to convert each row to the desired format\n",
        "def convert_row_to_text(row):\n",
        "    return f\"<s>[INST] {row['Question']} [/INST] {row['Answer']} </s>\\n\"\n",
        "\n",
        "# Input Excel file name\n",
        "input_excel_file = \"/content/QAS_Final_thor_version01.xls\"\n",
        "\n",
        "# Output text file name\n",
        "output_text_file = \"output.txt\"\n",
        "\n",
        "# Read the Excel file using pandas\n",
        "df = pd.read_excel(input_excel_file)\n",
        "\n",
        "# Open the output text file\n",
        "with open(output_text_file, 'w') as textfile:\n",
        "    # Iterate over each row in the DataFrame\n",
        "    for index, row in df.iterrows():\n",
        "        # Convert the row to the desired format\n",
        "        formatted_text = convert_row_to_text(row)\n",
        "        # Write the formatted text to the output text file\n",
        "        textfile.write(formatted_text)\n",
        "\n",
        "print(\"Conversion complete. Output written to\", output_text_file)\n",
        "\n",
        "\n",
        "\n"
      ]
    },
    {
      "cell_type": "code",
      "source": [
        "pip install pandas\n"
      ],
      "metadata": {
        "colab": {
          "base_uri": "https://localhost:8080/"
        },
        "id": "Q4h_hS2vO8eC",
        "outputId": "bb2cacc0-3b43-4e5e-c639-2ad68b21545d"
      },
      "execution_count": null,
      "outputs": [
        {
          "output_type": "stream",
          "name": "stdout",
          "text": [
            "Requirement already satisfied: pandas in /usr/local/lib/python3.10/dist-packages (1.5.3)\n",
            "Requirement already satisfied: python-dateutil>=2.8.1 in /usr/local/lib/python3.10/dist-packages (from pandas) (2.8.2)\n",
            "Requirement already satisfied: pytz>=2020.1 in /usr/local/lib/python3.10/dist-packages (from pandas) (2023.4)\n",
            "Requirement already satisfied: numpy>=1.21.0 in /usr/local/lib/python3.10/dist-packages (from pandas) (1.25.2)\n",
            "Requirement already satisfied: six>=1.5 in /usr/local/lib/python3.10/dist-packages (from python-dateutil>=2.8.1->pandas) (1.16.0)\n"
          ]
        }
      ]
    }
  ]
}